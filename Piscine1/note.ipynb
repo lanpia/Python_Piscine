{
 "cells": [
  {
   "cell_type": "code",
   "execution_count": 14,
   "metadata": {},
   "outputs": [
    {
     "name": "stdout",
     "output_type": "stream",
     "text": [
      "[22.50786346 29.03591682] <class 'numpy.ndarray'>\n",
      "[False  True]\n"
     ]
    }
   ],
   "source": [
    "import sys\n",
    "import os\n",
    "\n",
    "module_path = './ex00'\n",
    "sys.path.append(module_path)\n",
    "\n",
    "from give_bmi import *\n",
    "\n",
    "height = [2.71, 1.15]\n",
    "weight = [165.3, 38.4]\n",
    "\n",
    "bmi = give_bmi(height, weight)\n",
    "print(bmi, type(bmi))\n",
    "print(apply_limit(bmi, 26))\n",
    "# [22.507863455018317 29.0359168241966] <class 'numpy.ndarray'>\n",
    "# [False  True]"
   ]
  },
  {
   "cell_type": "code",
   "execution_count": 1,
   "metadata": {},
   "outputs": [
    {
     "name": "stdout",
     "output_type": "stream",
     "text": [
      "My shape is : (4, 2)\n",
      "My new shape is : (2, 2)\n",
      "[[  1.8   78.4 ]\n",
      " [  2.15 102.7 ]]\n",
      "My shape is : (4, 2)\n",
      "My new shape is : (1, 2)\n",
      "[[  2.15 102.7 ]]\n"
     ]
    }
   ],
   "source": [
    "import sys\n",
    "import os\n",
    "\n",
    "module_path = './ex01'\n",
    "sys.path.append(module_path)\n",
    "\n",
    "from array2D import slice_me\n",
    "\n",
    "family = [[1.80, 78.4],\n",
    "[2.15, 102.7],\n",
    "[2.10, 98.5],\n",
    "[1.88, 75.2]]\n",
    "print(slice_me(family, 0, 2))\n",
    "print(slice_me(family, 1, -2))\n",
    "\n",
    "# $> python test_array2D.py\n",
    "# My shape is : (4, 2)\n",
    "# My new shape is : (2, 2)\n",
    "# [[1.8, 78.4], [2.15, 102.7]]\n",
    "# My shape is : (4, 2)\n",
    "# My new shape is : (1, 2)\n",
    "# [[2.15, 102.7]]\n",
    "# $>"
   ]
  },
  {
   "cell_type": "code",
   "execution_count": null,
   "metadata": {},
   "outputs": [],
   "source": []
  }
 ],
 "metadata": {
  "kernelspec": {
   "display_name": "Python 3",
   "language": "python",
   "name": "python3"
  },
  "language_info": {
   "codemirror_mode": {
    "name": "ipython",
    "version": 3
   },
   "file_extension": ".py",
   "mimetype": "text/x-python",
   "name": "python",
   "nbconvert_exporter": "python",
   "pygments_lexer": "ipython3",
   "version": "3.10.11"
  },
  "orig_nbformat": 4
 },
 "nbformat": 4,
 "nbformat_minor": 2
}
