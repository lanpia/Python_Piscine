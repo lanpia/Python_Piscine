{
 "cells": [
  {
   "cell_type": "code",
   "execution_count": 8,
   "metadata": {},
   "outputs": [],
   "source": [
    "import sys\n",
    "import os\n",
    "\n",
    "# 모듈 경로 추가\n",
    "module_path = '/Users/nahyulee/Desktop/Python_Piscine/Piscine1/ex00'\n",
    "sys.path.append(module_path)\n",
    "\n",
    "from give_bmi import *"
   ]
  },
  {
   "cell_type": "code",
   "execution_count": 11,
   "metadata": {},
   "outputs": [
    {
     "ename": "ValueError",
     "evalue": "Height and weight lists must be of the same length.",
     "output_type": "error",
     "traceback": [
      "\u001b[0;31m---------------------------------------------------------------------------\u001b[0m",
      "\u001b[0;31mValueError\u001b[0m                                Traceback (most recent call last)",
      "Cell \u001b[0;32mIn[11], line 4\u001b[0m\n\u001b[1;32m      1\u001b[0m height \u001b[39m=\u001b[39m [\u001b[39m2.71\u001b[39m]\n\u001b[1;32m      2\u001b[0m weight \u001b[39m=\u001b[39m [\u001b[39m165.3\u001b[39m, \u001b[39m38.4\u001b[39m]\n\u001b[0;32m----> 4\u001b[0m bmi \u001b[39m=\u001b[39m give_bmi(height, weight)\n\u001b[1;32m      5\u001b[0m \u001b[39mprint\u001b[39m(bmi, \u001b[39mtype\u001b[39m(bmi))  \u001b[39m# 예상 출력: [22.507863455018317 29.0359168241966] <class 'numpy.ndarray'>\u001b[39;00m\n\u001b[1;32m      6\u001b[0m \u001b[39mprint\u001b[39m(apply_limit(bmi, \u001b[39m26\u001b[39m))  \u001b[39m# 예상 출력: [False  True]\u001b[39;00m\n",
      "File \u001b[0;32m~/Desktop/Python_Piscine/Piscine1/ex00/give_bmi.py:11\u001b[0m, in \u001b[0;36mgive_bmi\u001b[0;34m(height, weight)\u001b[0m\n\u001b[1;32m      0\u001b[0m <Error retrieving source code with stack_data see ipython/ipython#13598>\n",
      "\u001b[0;31mValueError\u001b[0m: Height and weight lists must be of the same length."
     ]
    }
   ],
   "source": [
    "height = [2.71]\n",
    "weight = [165.3, 38.4]\n",
    "\n",
    "bmi = give_bmi(height, weight)\n",
    "print(bmi, type(bmi))  # 예상 출력: [22.507863455018317 29.0359168241966] <class 'numpy.ndarray'>\n",
    "print(apply_limit(bmi, 26))  # 예상 출력: [False  True]"
   ]
  },
  {
   "cell_type": "code",
   "execution_count": null,
   "metadata": {},
   "outputs": [],
   "source": []
  }
 ],
 "metadata": {
  "kernelspec": {
   "display_name": "Python 3",
   "language": "python",
   "name": "python3"
  },
  "language_info": {
   "codemirror_mode": {
    "name": "ipython",
    "version": 3
   },
   "file_extension": ".py",
   "mimetype": "text/x-python",
   "name": "python",
   "nbconvert_exporter": "python",
   "pygments_lexer": "ipython3",
   "version": "3.10.11"
  },
  "orig_nbformat": 4
 },
 "nbformat": 4,
 "nbformat_minor": 2
}
