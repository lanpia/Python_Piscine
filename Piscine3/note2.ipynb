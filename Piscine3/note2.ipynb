{
 "cells": [
  {
   "cell_type": "markdown",
   "metadata": {},
   "source": [
    "EX 00\n",
    "\n",
    "```bash\n",
    "$ python tester.py\n",
    "{'first_name': 'Ned', 'is_alive': True}\n",
    "True\n",
    "False\n",
    "Stark 클래스: Character를 상속\n",
    "생성자 메서드\n",
    "is_alive를 False로 변경\n",
    "---\n",
    "{'first_name': 'Lyanna', 'is_alive': False}\n",
    "Can't instantiate abstract class Character with abstract method die\n",
    "```"
   ]
  },
  {
   "cell_type": "code",
   "execution_count": 1,
   "metadata": {},
   "outputs": [
    {
     "name": "stdout",
     "output_type": "stream",
     "text": [
      "{'first_name': 'Ned', 'is_alive': True}\n",
      "True\n",
      "False\n",
      "Stark 클래스: Character를 상속\n",
      "생성자 메서드\n",
      "is_alive를 False로 변경\n",
      "---\n",
      "{'first_name': 'Lyanna', 'is_alive': False}\n",
      "Can't instantiate abstract class Character with abstract method die\n"
     ]
    }
   ],
   "source": [
    "import sys\n",
    "import os\n",
    "\n",
    "module_path = './ex00'\n",
    "sys.path.append(module_path)\n",
    "\n",
    "from S1E9 import Character, Stark\n",
    "\n",
    "Ned = Stark(\"Ned\")\n",
    "print(Ned.__dict__)  # {'first_name': 'Ned', 'is_alive': True}\n",
    "print(Ned.is_alive)  # True\n",
    "Ned.die()\n",
    "print(Ned.is_alive)  # False\n",
    "print(Ned.__doc__)\n",
    "print(Ned.__init__.__doc__)\n",
    "print(Ned.die.__doc__)\n",
    "print(\"---\")\n",
    "Lyanna = Stark(\"Lyanna\", False)\n",
    "print(Lyanna.__dict__)  # {'first_name': 'Lyanna', 'is_alive': False}\n",
    "\n",
    "# Character 인스턴스 생성 시 오류 확인\n",
    "try:\n",
    "    hodor = Character(\"Hodor\")\n",
    "except TypeError as e:\n",
    "    print(e)\n"
   ]
  },
  {
   "cell_type": "markdown",
   "metadata": {},
   "source": [
    "EX 01\n",
    "```bash\n",
    "$> python tester.py\n",
    "{'first_name': 'Robert', 'is_alive': True, 'family_name': 'Baratheon', 'eyes': 'brown', 'hairs': 'dark'}\n",
    "<bound method Baratheon.__str__ of Vector: ('Baratheon', 'brown', 'dark')>\n",
    "<bound method Baratheon.__repr__ of Vector: ('Baratheon', 'brown', 'dark')>\n",
    "True\n",
    "False\n",
    "Representing the Baratheon family.\n",
    "---\n",
    "{'first_name': 'Cersei', 'is_alive': True, 'family_name': 'Lannister', 'eyes': 'blue', 'hairs': 'light'}\n",
    "<bound method Lannister.__str__ of Vector: ('Lannister', 'blue', 'light')>\n",
    "True\n",
    "---\n",
    "Name : ('Jaine', 'Lannister'), Alive : True\n",
    "$>\n",
    "```"
   ]
  },
  {
   "cell_type": "code",
   "execution_count": 2,
   "metadata": {},
   "outputs": [
    {
     "name": "stdout",
     "output_type": "stream",
     "text": [
      "{'first_name': 'Robert', 'is_alive': True, 'family_name': 'Baratheon', 'eyes': 'brown', 'hairs': 'dark'}\n",
      "<bound method Baratheon.__str__ of Vector: (Baratheon, brown, dark)>\n",
      "<bound method Baratheon.__repr__ of Vector: (Baratheon, brown, dark)>\n",
      "True\n",
      "False\n",
      "Representing the Baratheon family.\n",
      "---\n",
      "{'first_name': 'Cersei', 'is_alive': True, 'family_name': 'Lannister', 'eyes': 'blue', 'hairs': 'light'}\n",
      "<bound method Lannister.__str__ of Vector: (Lannister, blue, light)>\n",
      "True\n",
      "---\n",
      "Name : ('Jaine', 'Lannister'), Alive : True\n"
     ]
    }
   ],
   "source": [
    "import sys\n",
    "import os\n",
    "\n",
    "module_path = './ex01'\n",
    "sys.path.append(module_path)\n",
    "\n",
    "from S1E7 import Baratheon, Lannister\n",
    "from S1E9 import Stark\n",
    "\n",
    "Robert = Baratheon(\"Robert\")\n",
    "print(Robert.__dict__)\n",
    "print(Robert.__str__)\n",
    "print(Robert.__repr__)\n",
    "# print(Robert.__str__())\n",
    "# print(Robert.__repr__())\n",
    "print(Robert.is_alive)\n",
    "Robert.die()\n",
    "print(Robert.is_alive)\n",
    "print(Robert.__doc__)\n",
    "print(\"---\")\n",
    "Cersei = Lannister(\"Cersei\")\n",
    "print(Cersei.__dict__)\n",
    "print(Cersei.__str__)\n",
    "print(Cersei.is_alive)\n",
    "print(\"---\")\n",
    "Jaine = Lannister.create_lannister(\"Jaine\", True)\n",
    "print(f\"Name : {Jaine.first_name, type(Jaine).__name__}, Alive : {Jaine.is_alive}\")"
   ]
  },
  {
   "cell_type": "markdown",
   "metadata": {},
   "source": [
    "EX02"
   ]
  },
  {
   "cell_type": "markdown",
   "metadata": {},
   "source": [
    "```\n",
    " $> python tester.py\n",
    " {'first_name': 'Joffrey', 'is_alive': True, 'family_name': 'Baratheon', 'eyes': 'brown', 'hair': 'dark'}\n",
    " blue\n",
    " light\n",
    " {'first_name': 'Joffrey', 'is_alive': True, 'family_name': 'Baratheon', 'eyes': 'blue', 'hairs': 'light'}\n",
    " $>\n",
    " ```"
   ]
  },
  {
   "cell_type": "code",
   "execution_count": 3,
   "metadata": {},
   "outputs": [
    {
     "name": "stdout",
     "output_type": "stream",
     "text": [
      "{'first_name': 'Joffrey', 'is_alive': True, 'family_name': 'Baratheon', 'eyes': 'brown', 'hairs': 'dark'}\n",
      "blue\n",
      "light\n",
      "{'first_name': 'Joffrey', 'is_alive': True, 'family_name': 'Baratheon', 'eyes': 'blue', 'hairs': 'light'}\n",
      "{'first_name': 'Joffrey', 'is_alive': True, 'family_name': 'Baratheon', 'eyes': 'brown', 'hairs': 'dark'}\n",
      "blue\n",
      "light\n",
      "{'first_name': 'Joffrey', 'is_alive': True, 'family_name': 'Baratheon', 'eyes': 'blue', 'hairs': 'light'}\n"
     ]
    }
   ],
   "source": [
    "import sys\n",
    "import os\n",
    "\n",
    "module_path = './ex02'\n",
    "sys.path.append(module_path)\n",
    "\n",
    "from S1E7 import Baratheon, Lannister\n",
    "from S1E9 import Stark\n",
    "from DiamondTrap import King\n",
    "\n",
    "Joffrey = King(\"Joffrey\")\n",
    "print(Joffrey.__dict__)\n",
    "Joffrey.set_eyes(\"blue\")\n",
    "Joffrey.set_hairs(\"light\")\n",
    "print(Joffrey.get_eyes())\n",
    "print(Joffrey.get_hairs())\n",
    "print(Joffrey.__dict__)"
   ]
  },
  {
   "cell_type": "markdown",
   "metadata": {},
   "source": [
    "EX03"
   ]
  },
  {
   "cell_type": "markdown",
   "metadata": {},
   "source": [
    "```\n",
    "$> python tester.py\n",
    " [5.0, 6.0, 7.0, 8.0, 9.0, 10.0]--\n",
    "[0.0, 5.0, 10.0, 15.0, 20.0, 25.0]--\n",
    "[5.0, 10.0, 15.0]\n",
    " [1.0, 2.0, 3.0]\n",
    " $>\n",
    " ```"
   ]
  },
  {
   "cell_type": "code",
   "execution_count": 4,
   "metadata": {},
   "outputs": [
    {
     "name": "stdout",
     "output_type": "stream",
     "text": [
      "[5.0, 6.0, 7.0, 8.0, 9.0, 10.0]\n",
      "---\n",
      "[0.0, 5.0, 10.0, 15.0, 20.0, 25.0]\n",
      "---\n",
      "[5.0, 10.0, 15.0]\n",
      "[1.0, 2.0, 3.0]\n",
      "[5.0, 6.0, 7.0, 8.0, 9.0, 10.0]\n",
      "---\n",
      "[0.0, 5.0, 10.0, 15.0, 20.0, 25.0]\n",
      "---\n",
      "[5.0, 10.0, 15.0]\n",
      "[1.0, 2.0, 3.0]\n"
     ]
    }
   ],
   "source": [
    "import sys\n",
    "import os\n",
    "\n",
    "module_path = './ex03'\n",
    "sys.path.append(module_path)\n",
    "\n",
    "from ft_calculator import calculator\n",
    "v1 = calculator([0.0, 1.0, 2.0, 3.0, 4.0, 5.0])\n",
    "v1 + 5\n",
    "print(\"---\")\n",
    "v2 = calculator([0.0, 1.0, 2.0, 3.0, 4.0, 5.0])\n",
    "v2 * 5\n",
    "print(\"---\")\n",
    "v3 = calculator([10.0, 15.0, 20.0])\n",
    "v3 - 5\n",
    "v3 / 5"
   ]
  },
  {
   "cell_type": "markdown",
   "metadata": {},
   "source": [
    "EX04"
   ]
  },
  {
   "cell_type": "markdown",
   "metadata": {},
   "source": [
    "```\n",
    " $> python tester.py\n",
    " Dot product is: 56\n",
    " Add Vector is : [7.0, 14.0, 5.0]\n",
    " Sous Vector is: [3.0, 6.0,-1.0]\n",
    " $>\n",
    "```"
   ]
  },
  {
   "cell_type": "code",
   "execution_count": 2,
   "metadata": {},
   "outputs": [
    {
     "name": "stdout",
     "output_type": "stream",
     "text": [
      "56\n",
      "[7.0, 14.0, 5.0]\n",
      "[3.0, 6.0, -1.0]\n"
     ]
    },
    {
     "data": {
      "text/plain": [
       "[3.0, 6.0, -1.0]"
      ]
     },
     "execution_count": 2,
     "metadata": {},
     "output_type": "execute_result"
    }
   ],
   "source": [
    "import sys\n",
    "import os\n",
    "\n",
    "module_path = './ex04'\n",
    "sys.path.append(module_path)\n",
    "\n",
    "from ft_calculator import calculator\n",
    "a = [5, 10, 2]\n",
    "b = [2, 4, 3]\n",
    "calculator.dotproduct(a,b)\n",
    "calculator.add_vec(a,b)\n",
    "calculator.sous_vec(a,b)"
   ]
  },
  {
   "cell_type": "code",
   "execution_count": null,
   "metadata": {},
   "outputs": [],
   "source": []
  }
 ],
 "metadata": {
  "kernelspec": {
   "display_name": "graphml",
   "language": "python",
   "name": "python3"
  },
  "language_info": {
   "codemirror_mode": {
    "name": "ipython",
    "version": 3
   },
   "file_extension": ".py",
   "mimetype": "text/x-python",
   "name": "python",
   "nbconvert_exporter": "python",
   "pygments_lexer": "ipython3",
   "version": "3.10.17"
  },
  "orig_nbformat": 4
 },
 "nbformat": 4,
 "nbformat_minor": 2
}
