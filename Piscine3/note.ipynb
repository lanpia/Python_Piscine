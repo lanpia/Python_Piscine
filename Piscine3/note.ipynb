{
 "cells": [
  {
   "cell_type": "markdown",
   "metadata": {},
   "source": [
    "EX 00\n",
    "\n",
    "```bash\n",
    "$ python tester.py\n",
    "{'first_name': 'Ned', 'is_alive': True}\n",
    "True\n",
    "False\n",
    "Stark 클래스: Character를 상속\n",
    "생성자 메서드\n",
    "is_alive를 False로 변경\n",
    "---\n",
    "{'first_name': 'Lyanna', 'is_alive': False}\n",
    "Can't instantiate abstract class Character with abstract method die\n",
    "```"
   ]
  },
  {
   "cell_type": "code",
   "execution_count": 1,
   "metadata": {},
   "outputs": [
    {
     "name": "stdout",
     "output_type": "stream",
     "text": [
      "{'first_name': 'Ned', 'is_alive': True}\n",
      "True\n",
      "False\n",
      "Stark 클래스: Character를 상속\n",
      "생성자 메서드\n",
      "is_alive를 False로 변경\n",
      "---\n",
      "{'first_name': 'Lyanna', 'is_alive': False}\n",
      "Can't instantiate abstract class Character with abstract method die\n"
     ]
    }
   ],
   "source": [
    "import sys\n",
    "import os\n",
    "\n",
    "module_path = './ex00'\n",
    "sys.path.append(module_path)\n",
    "\n",
    "from S1E9 import Character, Stark\n",
    "\n",
    "Ned = Stark(\"Ned\")\n",
    "print(Ned.__dict__)  # {'first_name': 'Ned', 'is_alive': True}\n",
    "print(Ned.is_alive)  # True\n",
    "Ned.die()\n",
    "print(Ned.is_alive)  # False\n",
    "print(Ned.__doc__)\n",
    "print(Ned.__init__.__doc__)\n",
    "print(Ned.die.__doc__)\n",
    "print(\"---\")\n",
    "Lyanna = Stark(\"Lyanna\", False)\n",
    "print(Lyanna.__dict__)  # {'first_name': 'Lyanna', 'is_alive': False}\n",
    "\n",
    "# Character 인스턴스 생성 시 오류 확인\n",
    "try:\n",
    "    hodor = Character(\"Hodor\")\n",
    "except TypeError as e:\n",
    "    print(e)\n"
   ]
  },
  {
   "cell_type": "markdown",
   "metadata": {},
   "source": [
    "EX 01\n",
    "```bash\n",
    "$> python tester.py\n",
    "{'first_name': 'Robert', 'is_alive': True, 'family_name': 'Baratheon', 'eyes': 'brown', 'hairs': 'dark'}\n",
    "<bound method Baratheon.__str__ of Vector: ('Baratheon', 'brown', 'dark')>\n",
    "<bound method Baratheon.__repr__ of Vector: ('Baratheon', 'brown', 'dark')>\n",
    "True\n",
    "False\n",
    "Representing the Baratheon family.\n",
    "---\n",
    "{'first_name': 'Cersei', 'is_alive': True, 'family_name': 'Lannister', 'eyes': 'blue', 'hairs': 'light'}\n",
    "<bound method Lannister.__str__ of Vector: ('Lannister', 'blue', 'light')>\n",
    "True\n",
    "---\n",
    "Name : ('Jaine', 'Lannister'), Alive : True\n",
    "$>\n",
    "```"
   ]
  },
  {
   "cell_type": "code",
   "execution_count": 1,
   "metadata": {},
   "outputs": [
    {
     "name": "stdout",
     "output_type": "stream",
     "text": [
      "{'first_name': 'Robert', 'is_alive': True}\n",
      "<method-wrapper '__str__' of Baratheon object at 0x00000174C2932830>\n",
      "<method-wrapper '__repr__' of Baratheon object at 0x00000174C2932830>\n",
      "True\n",
      "False\n",
      "Baratheon 클래스\n",
      "---\n",
      "{'first_name': 'Cersei', 'is_alive': True}\n",
      "<method-wrapper '__str__' of Lannister object at 0x00000174C2932F80>\n",
      "True\n",
      "---\n"
     ]
    },
    {
     "ename": "AttributeError",
     "evalue": "'bool' object has no attribute 'first_name'",
     "output_type": "error",
     "traceback": [
      "\u001b[1;31m---------------------------------------------------------------------------\u001b[0m",
      "\u001b[1;31mAttributeError\u001b[0m                            Traceback (most recent call last)",
      "Cell \u001b[1;32mIn[1], line 24\u001b[0m\n\u001b[0;32m     22\u001b[0m \u001b[38;5;28mprint\u001b[39m(Cersei\u001b[38;5;241m.\u001b[39mis_alive)\n\u001b[0;32m     23\u001b[0m \u001b[38;5;28mprint\u001b[39m(\u001b[38;5;124m\"\u001b[39m\u001b[38;5;124m---\u001b[39m\u001b[38;5;124m\"\u001b[39m)\n\u001b[1;32m---> 24\u001b[0m Jaine \u001b[38;5;241m=\u001b[39m \u001b[43mLannister\u001b[49m\u001b[38;5;241;43m.\u001b[39;49m\u001b[43mcreate_lannister\u001b[49m\u001b[43m(\u001b[49m\u001b[38;5;124;43m\"\u001b[39;49m\u001b[38;5;124;43mJaine\u001b[39;49m\u001b[38;5;124;43m\"\u001b[39;49m\u001b[43m,\u001b[49m\u001b[43m \u001b[49m\u001b[38;5;28;43;01mTrue\u001b[39;49;00m\u001b[43m)\u001b[49m\n\u001b[0;32m     25\u001b[0m \u001b[38;5;28mprint\u001b[39m(\u001b[38;5;124mf\u001b[39m\u001b[38;5;124m\"\u001b[39m\u001b[38;5;124mName : \u001b[39m\u001b[38;5;132;01m{\u001b[39;00mJaine\u001b[38;5;241m.\u001b[39mfirst_name,\u001b[38;5;250m \u001b[39m\u001b[38;5;28mtype\u001b[39m(Jaine)\u001b[38;5;241m.\u001b[39m\u001b[38;5;18m__name__\u001b[39m\u001b[38;5;132;01m}\u001b[39;00m\u001b[38;5;124m, Alive : \u001b[39m\u001b[38;5;132;01m{\u001b[39;00mJaine\u001b[38;5;241m.\u001b[39mis_alive\u001b[38;5;132;01m}\u001b[39;00m\u001b[38;5;124m\"\u001b[39m)\n",
      "File \u001b[1;32mc:\\Users\\roina\\Desktop\\code\\Python_Piscine\\Piscine3\\./ex01\\S1E7.py:16\u001b[0m, in \u001b[0;36mLannister.create_lannister\u001b[1;34m(self, other)\u001b[0m\n\u001b[0;32m     14\u001b[0m \u001b[38;5;28;01mdef\u001b[39;00m\u001b[38;5;250m \u001b[39m\u001b[38;5;21mcreate_lannister\u001b[39m(\u001b[38;5;28mself\u001b[39m, other):\n\u001b[0;32m     15\u001b[0m \u001b[38;5;250m    \u001b[39m\u001b[38;5;124;03m\"\"\"Lannister 가문을 생성하는 메서드\"\"\"\u001b[39;00m\n\u001b[1;32m---> 16\u001b[0m     \u001b[38;5;28;01mreturn\u001b[39;00m Lannister(\u001b[43mother\u001b[49m\u001b[38;5;241;43m.\u001b[39;49m\u001b[43mfirst_name\u001b[49m, other\u001b[38;5;241m.\u001b[39mis_alive)\n",
      "\u001b[1;31mAttributeError\u001b[0m: 'bool' object has no attribute 'first_name'"
     ]
    }
   ],
   "source": [
    "import sys\n",
    "import os\n",
    "\n",
    "module_path = './ex01'\n",
    "sys.path.append(module_path)\n",
    "\n",
    "from S1E7 import Baratheon, Lannister\n",
    "from S1E9 import Stark\n",
    "\n",
    "Robert = Baratheon(\"Robert\")\n",
    "print(Robert.__dict__)\n",
    "print(Robert.__str__)\n",
    "print(Robert.__repr__)\n",
    "print(Robert.is_alive)\n",
    "Robert.die()\n",
    "print(Robert.is_alive)\n",
    "print(Robert.__doc__)\n",
    "print(\"---\")\n",
    "Cersei = Lannister(\"Cersei\")\n",
    "print(Cersei.__dict__)\n",
    "print(Cersei.__str__)\n",
    "print(Cersei.is_alive)\n",
    "print(\"---\")\n",
    "Jaine = Lannister.create_lannister(\"Jaine\", True)\n",
    "print(f\"Name : {Jaine.first_name, type(Jaine).__name__}, Alive : {Jaine.is_alive}\")"
   ]
  },
  {
   "cell_type": "code",
   "execution_count": null,
   "metadata": {},
   "outputs": [],
   "source": []
  },
  {
   "cell_type": "code",
   "execution_count": null,
   "metadata": {},
   "outputs": [],
   "source": []
  }
 ],
 "metadata": {
  "kernelspec": {
   "display_name": "graphml",
   "language": "python",
   "name": "python3"
  },
  "language_info": {
   "codemirror_mode": {
    "name": "ipython",
    "version": 3
   },
   "file_extension": ".py",
   "mimetype": "text/x-python",
   "name": "python",
   "nbconvert_exporter": "python",
   "pygments_lexer": "ipython3",
   "version": "3.10.17"
  },
  "orig_nbformat": 4
 },
 "nbformat": 4,
 "nbformat_minor": 2
}
