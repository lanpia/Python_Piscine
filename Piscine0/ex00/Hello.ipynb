{
 "cells": [
  {
   "cell_type": "code",
   "execution_count": 2,
   "metadata": {},
   "outputs": [
    {
     "name": "stdout",
     "output_type": "stream",
     "text": [
      "['Hello', 'tata!']\n",
      "('Hello', 'toto!')\n",
      "{'Hello', 'tutu!'}\n",
      "{'Hello': 'titi!'}\n"
     ]
    }
   ],
   "source": [
    "ft_list = [\"Hello\", \"tata!\"]\n",
    "ft_tuple = (\"Hello\", \"toto!\")\n",
    "ft_set = {\"Hello\", \"tutu!\"}\n",
    "ft_dict = {\"Hello\" : \"titi!\"}\n",
    "print(ft_list)\n",
    "print(ft_tuple)\n",
    "print(ft_set)\n",
    "print(ft_dict)"
   ]
  },
  {
   "cell_type": "code",
   "execution_count": 3,
   "metadata": {},
   "outputs": [
    {
     "name": "stdout",
     "output_type": "stream",
     "text": [
      "['Hello', 'World!']\n",
      "('Hello', 'Korea!')\n",
      "{'Hello', 'Seoul!'}\n",
      "{'Hello': '42Seoul!'}\n"
     ]
    }
   ],
   "source": [
    "# ft_list[1] = \"world!\"\n",
    "del ft_list[1: ]\n",
    "# ft_list.append(\"world!\")\n",
    "ft_list.insert(1, \"World!\")\n",
    "ft_tuple = ('Hello', 'Korea!')\n",
    "# ft_set = {\"Hello\", \"Seoul!\"}\n",
    "ft_set.remove(\"tutu!\")\n",
    "ft_set.add(\"Seoul!\")\n",
    "\n",
    "ft_dict[\"Hello\"] = \"42Seoul!\"\n",
    "print(ft_list)\n",
    "print(ft_tuple)\n",
    "print(ft_set)\n",
    "print(ft_dict)"
   ]
  },
  {
   "cell_type": "code",
   "execution_count": null,
   "metadata": {},
   "outputs": [],
   "source": []
  }
 ],
 "metadata": {
  "kernelspec": {
   "display_name": "Python 3",
   "language": "python",
   "name": "python3"
  },
  "language_info": {
   "codemirror_mode": {
    "name": "ipython",
    "version": 3
   },
   "file_extension": ".py",
   "mimetype": "text/x-python",
   "name": "python",
   "nbconvert_exporter": "python",
   "pygments_lexer": "ipython3",
   "version": "3.10.11"
  }
 },
 "nbformat": 4,
 "nbformat_minor": 2
}
