{
 "cells": [
  {
   "cell_type": "code",
   "execution_count": 2,
   "metadata": {},
   "outputs": [],
   "source": [
    "def all_thing_is_obj(object: any) -> int:\n",
    "    obj_type = type(object)\n",
    "    \n",
    "    if obj_type in [list, tuple, set, dict]:\n",
    "        print(f\"{obj_type.__name__.capitalize()} : {obj_type}\")\n",
    "    elif obj_type == str:\n",
    "        print(f\"{object} is in the kitchen : {obj_type}\")\n",
    "    else:\n",
    "        print(\"Type not found\")\n",
    "    \n",
    "    return 42\n"
   ]
  },
  {
   "cell_type": "code",
   "execution_count": 3,
   "metadata": {},
   "outputs": [
    {
     "name": "stdout",
     "output_type": "stream",
     "text": [
      "List : <class 'list'>\n",
      "Tuple : <class 'tuple'>\n",
      "Set : <class 'set'>\n",
      "Dict : <class 'dict'>\n",
      "Brian is in the kitchen : <class 'str'>\n",
      "Toto is in the kitchen : <class 'str'>\n",
      "Type not found\n",
      "42\n"
     ]
    }
   ],
   "source": [
    "from find_ft_type import all_thing_is_obj\n",
    "ft_list = [\"Hello\", \"tata!\"]\n",
    "ft_tuple = (\"Hello\", \"toto!\")\n",
    "ft_set = {\"Hello\", \"tutu!\"}\n",
    "ft_dict = {\"Hello\" : \"titi!\"}\n",
    "all_thing_is_obj(ft_list)\n",
    "all_thing_is_obj(ft_tuple)\n",
    "all_thing_is_obj(ft_set)\n",
    "all_thing_is_obj(ft_dict)\n",
    "all_thing_is_obj(\"Brian\")\n",
    "all_thing_is_obj(\"Toto\")\n",
    "print(all_thing_is_obj(10))"
   ]
  },
  {
   "cell_type": "code",
   "execution_count": null,
   "metadata": {},
   "outputs": [],
   "source": []
  }
 ],
 "metadata": {
  "kernelspec": {
   "display_name": "Python 3",
   "language": "python",
   "name": "python3"
  },
  "language_info": {
   "codemirror_mode": {
    "name": "ipython",
    "version": 3
   },
   "file_extension": ".py",
   "mimetype": "text/x-python",
   "name": "python",
   "nbconvert_exporter": "python",
   "pygments_lexer": "ipython3",
   "version": "3.12.6"
  }
 },
 "nbformat": 4,
 "nbformat_minor": 2
}
