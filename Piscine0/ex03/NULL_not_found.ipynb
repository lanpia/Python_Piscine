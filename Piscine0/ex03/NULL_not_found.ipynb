{
 "cells": [
  {
   "cell_type": "code",
   "execution_count": 1,
   "metadata": {},
   "outputs": [],
   "source": [
    "import math\n",
    "\n",
    "def NULL_not_found(object: any) -> int:\n",
    "    if object is None:\n",
    "        print(f\"Nothing: {object} {type(object)}\")\n",
    "    elif isinstance(object, float) and math.isnan(object):\n",
    "        print(f\"Garlic: {object} {type(object)}\")\n",
    "    elif object == 0:\n",
    "        print(f\"Zero: {object} {type(object)}\")\n",
    "    elif object == '':\n",
    "        print(f\"Empty: {object} {type(object)}\")\n",
    "    elif object is False:\n",
    "        print(f\"Fake: {object} {type(object)}\")\n",
    "    else:\n",
    "        print(\"Type not Found\")\n",
    "        return 1\n",
    "    return 0"
   ]
  },
  {
   "cell_type": "code",
   "execution_count": 2,
   "metadata": {},
   "outputs": [
    {
     "name": "stdout",
     "output_type": "stream",
     "text": [
      "Nothing: None <class 'NoneType'>\n",
      "Garlic: nan <class 'float'>\n",
      "Zero: 0 <class 'int'>\n",
      "Empty:  <class 'str'>\n",
      "Zero: False <class 'bool'>\n",
      "Type not Found\n",
      "1\n"
     ]
    }
   ],
   "source": [
    "from NULL_not_found import NULL_not_found\n",
    "\n",
    "Nothing = None\n",
    "Garlic = float(\"NaN\")\n",
    "Zero = 0\n",
    "Empty = ''\n",
    "Fake = False\n",
    "\n",
    "NULL_not_found(Nothing)\n",
    "NULL_not_found(Garlic)\n",
    "NULL_not_found(Zero)\n",
    "NULL_not_found(Empty)\n",
    "NULL_not_found(Fake)\n",
    "print(NULL_not_found(\"Brian\"))"
   ]
  },
  {
   "cell_type": "markdown",
   "metadata": {},
   "source": [
    "이 코드가 의미하는 바와 관련하여 공부하면 좋은 개념들을 정리하면 다음과 같습니다:\n",
    "\n",
    "### 1. **Python의 `None`, `NaN`, `0`, `\"\"`, `False`의 차이점**\n",
    "   - **`None`**: Python에서의 `None`은 값이 없음을 의미하는 객체입니다. 이는 'Null'을 나타내는 데 주로 사용됩니다.\n",
    "   - **`NaN (Not a Number)`**: 수학적으로 정의되지 않은 값이나, 계산 불가한 숫자를 나타내며, `float('NaN')`로 생성됩니다. NaN은 자기 자신과도 같지 않기 때문에 `obj != obj`로 체크합니다.\n",
    "   - **`0`**: 정수 `0`은 값이 없다는 의미로 쓰일 수 있지만, 실제로는 값이 있는 숫자 객체입니다. \n",
    "   - **`\"\"` (빈 문자열)**: 빈 문자열은 값이 없는 문자열을 의미하지만, 여전히 `str` 객체로 존재하는 값입니다.\n",
    "   - **`False`**: `False`는 부울 값으로, 논리적으로 거짓을 의미합니다.\n",
    "\n",
    "   **공부할 개념**: Python에서 다양한 객체가 \"값이 없음\" 또는 \"Null-like\"으로 해석될 수 있지만, 각 객체는 실제로 다른 타입을 가집니다. Python의 데이터 타입 시스템과 불리언, `None`, `NaN` 등의 특성을 살펴보세요.\n",
    "\n",
    "### 2. **타입 검사 (`isinstance`와 비교 연산자)**\n",
    "   - `isinstance()`는 객체가 특정 타입인지 검사하는 함수입니다. 이 코드에서는 각 객체의 타입을 검사하여 적절한 메시지를 출력합니다.\n",
    "   - **공부할 개념**: `isinstance()`의 동작과 Python의 객체 지향적 타입 시스템을 더 깊이 살펴보세요.\n",
    "\n",
    "### 3. **NaN (Not a Number)의 특성**\n",
    "   - `NaN`은 다른 값들과는 다르게, 자기 자신과 비교할 때도 `True`가 나오지 않는 특성을 가지고 있습니다. `NaN != NaN`이 True라는 점이 중요한 개념입니다.\n",
    "   - **공부할 개념**: NaN의 수학적 의미와 IEEE 754 부동소수점 표준에 대해 알아보면 도움이 됩니다.\n",
    "\n",
    "### 4. **예외 처리 (`try-except`)**\n",
    "   - `try-except` 블록은 Python에서 오류가 발생했을 때 프로그램이 중단되지 않고 오류를 처리하는 메커니즘입니다. 이 코드에서는 예외가 발생할 경우 오류 메시지를 출력하고 `1`을 반환합니다.\n",
    "   - **공부할 개념**: 예외 처리, `try`, `except`의 역할과 오류 처리 패턴에 대해 살펴보세요.\n",
    "\n",
    "### 5. **조건문 (`if-elif-else`)**\n",
    "   - 다양한 조건을 체크하여 그에 맞는 처리를 하는 `if-elif-else` 구조를 사용하여, 각 타입별로 적절한 메시지를 출력합니다.\n",
    "   - **공부할 개념**: 조건문과 논리적 흐름 제어에 대해 더 깊이 알아보면 좋습니다.\n",
    "\n",
    "### 6. **리턴 값**\n",
    "   - 함수가 정상적으로 처리되면 `0`을, 문제가 발생하면 `1`을 반환하는 방식은 오류 처리 패턴 중 하나입니다. 보통, 성공 시 `0`, 실패 시 `1`을 반환하는 것은 시스템 프로그래밍이나 쉘 스크립트에서 자주 사용하는 패턴입니다.\n",
    "   - **공부할 개념**: 함수의 리턴 값과 성공/실패 여부를 처리하는 방법을 알아보세요.\n",
    "\n",
    "### 요약:\n",
    "- Python에서 다양한 \"Null-like\" 객체의 타입 및 특성\n",
    "- `isinstance()`와 같은 타입 검사 방법\n",
    "- NaN의 특이한 비교 특성\n",
    "- 예외 처리 방법과 조건문 활용\n",
    "- 함수의 리턴 값을 통한 성공/실패 처리\n",
    "\n",
    "이러한 개념들을 공부하면 코드의 동작 원리뿐만 아니라 Python의 전반적인 흐름을 더 잘 이해할 수 있을 것입니다."
   ]
  },
  {
   "cell_type": "code",
   "execution_count": null,
   "metadata": {},
   "outputs": [],
   "source": []
  }
 ],
 "metadata": {
  "kernelspec": {
   "display_name": "Python 3 (ipykernel)",
   "language": "python",
   "name": "python3"
  },
  "language_info": {
   "codemirror_mode": {
    "name": "ipython",
    "version": 3
   },
   "file_extension": ".py",
   "mimetype": "text/x-python",
   "name": "python",
   "nbconvert_exporter": "python",
   "pygments_lexer": "ipython3",
   "version": "3.10.12"
  }
 },
 "nbformat": 4,
 "nbformat_minor": 2
}
