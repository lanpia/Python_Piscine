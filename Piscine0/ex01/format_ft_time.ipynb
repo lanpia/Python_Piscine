{
 "cells": [
  {
   "cell_type": "code",
   "execution_count": 1,
   "metadata": {},
   "outputs": [
    {
     "name": "stdout",
     "output_type": "stream",
     "text": [
      "Seconds since January 1, 1970: 1,727,494,286.9108 or 1.73e+09 in scientific notation\n",
      "Sep 28 2024\n"
     ]
    }
   ],
   "source": [
    "import time\n",
    "from datetime import datetime\n",
    "\n",
    "# 현재 시간을 초 단위로 가져옵니다\n",
    "current_time = time.time()\n",
    "\n",
    "# 첫 번째 줄: 1970년 1월 1일 이후 경과 초\n",
    "print(f\"Seconds since January 1, 1970: {current_time:,.4f} or {current_time:.2e} in scientific notation\")\n",
    "\n",
    "# 두 번째 줄: 현재 날짜\n",
    "current_date = datetime.now().strftime(\"%b %d %Y\")\n",
    "print(current_date)"
   ]
  },
  {
   "cell_type": "code",
   "execution_count": null,
   "metadata": {},
   "outputs": [],
   "source": []
  }
 ],
 "metadata": {
  "kernelspec": {
   "display_name": "Python 3",
   "language": "python",
   "name": "python3"
  },
  "language_info": {
   "codemirror_mode": {
    "name": "ipython",
    "version": 3
   },
   "file_extension": ".py",
   "mimetype": "text/x-python",
   "name": "python",
   "nbconvert_exporter": "python",
   "pygments_lexer": "ipython3",
   "version": "3.12.6"
  }
 },
 "nbformat": 4,
 "nbformat_minor": 2
}
