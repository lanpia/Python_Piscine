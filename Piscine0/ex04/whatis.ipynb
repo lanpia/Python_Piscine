{
 "cells": [
  {
   "cell_type": "code",
   "execution_count": 1,
   "metadata": {},
   "outputs": [
    {
     "name": "stdout",
     "output_type": "stream",
     "text": [
      "스크립트 이름: /home/roina/.local/lib/python3.10/site-packages/ipykernel_launcher.py\n",
      "인수들:\n",
      "인수 1: --f=/home/roina/.local/share/jupyter/runtime/kernel-v2-1183nbPKIYQXB022.json\n"
     ]
    }
   ],
   "source": [
    "import sys\n",
    "\n",
    "# 첫 번째 인수는 항상 스크립트 이름입니다\n",
    "script_name = sys.argv[0]\n",
    "\n",
    "# 나머지 인수들\n",
    "arguments = sys.argv[1:]\n",
    "\n",
    "# 인수 출력\n",
    "print(f\"스크립트 이름: {script_name}\")\n",
    "print(\"인수들:\")\n",
    "for i, arg in enumerate(arguments, 1):\n",
    "    print(f\"인수 {i}: {arg}\")"
   ]
  },
  {
   "cell_type": "code",
   "execution_count": null,
   "metadata": {},
   "outputs": [],
   "source": []
  }
 ],
 "metadata": {
  "kernelspec": {
   "display_name": "Python 3",
   "language": "python",
   "name": "python3"
  },
  "language_info": {
   "codemirror_mode": {
    "name": "ipython",
    "version": 3
   },
   "file_extension": ".py",
   "mimetype": "text/x-python",
   "name": "python",
   "nbconvert_exporter": "python",
   "pygments_lexer": "ipython3",
   "version": "3.10.12"
  }
 },
 "nbformat": 4,
 "nbformat_minor": 2
}
